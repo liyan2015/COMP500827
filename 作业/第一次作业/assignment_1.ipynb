{
 "cells": [
  {
   "cell_type": "markdown",
   "metadata": {
    "id": "dzl1DyP_ugzy"
   },
   "source": [
    "# COMP500827 机器学习在信息安全中的应用 <br> 第一次作业：线性回归 <br> 发布日期：2024年11月14日，截止日期：2024年11月24日24:00"
   ]
  },
  {
   "cell_type": "markdown",
   "metadata": {},
   "source": [
    "姓名：，学号："
   ]
  },
  {
   "cell_type": "markdown",
   "metadata": {},
   "source": [
    "作业提交要求：\n",
    "- 务必在上面填上自己的姓名和学号\n",
    "- 提交内容应包括：以jupyter notebook形式编写的Python代码（文件后缀名为.ipynb）、带所有输出结果的jupyter notebook文件对应的PDF文件\n",
    "- 所有文件须用zip格式打包成一个压缩包，要求解压即可运行\n",
    "- 压缩包上传至教学系统（https://class.xjtu.edu.cn/course/74005/homework#/ ）"
   ]
  },
  {
   "cell_type": "markdown",
   "metadata": {
    "id": "5tbt-G25zmOE"
   },
   "source": [
    "## 单变量线性回归"
   ]
  },
  {
   "cell_type": "markdown",
   "metadata": {
    "id": "mjroJgG1M24X"
   },
   "source": [
    "以下代码生成了一个训练数据集，其实际标签$y$是特征数据$x$的线性函数，数据带有噪声。用以下两种方式完成代码，以找到能最小化均方误差的最优线性回归模型参数：\n",
    "1. 我们在课堂上学到的解析表达式$y=\\theta_0+\\theta_1 x$；\n",
    "2. 使用numpy.polynomial.polynomial类中的“polyfit”和“polyval”函数。"
   ]
  },
  {
   "cell_type": "markdown",
   "metadata": {
    "id": "ozFgM3c-zaBw"
   },
   "source": [
    "### 生成数据"
   ]
  },
  {
   "cell_type": "code",
   "execution_count": null,
   "metadata": {
    "id": "WTzKJ4iZycSW"
   },
   "outputs": [],
   "source": [
    "import numpy as np\n",
    "import numpy.polynomial.polynomial as poly\n",
    "import matplotlib.pyplot as plt\n",
    "\n",
    "nsamp = 100\n",
    "wstd = 0.2\n",
    "theta = np.array([2,3])\n",
    "\n",
    "# 训练集数据点\n",
    "xd = np.random.uniform(-1,1,nsamp)\n",
    "y0 = poly.polyval(xd,theta)\n",
    "yd = y0 + np.random.normal(0,wstd,nsamp)\n",
    "\n",
    "fig, ax = plt.subplots()\n",
    "ax.scatter(xd, yd)"
   ]
  },
  {
   "cell_type": "markdown",
   "metadata": {
    "id": "ylmbDmHf0S4O"
   },
   "source": [
    "### 分析模型"
   ]
  },
  {
   "cell_type": "markdown",
   "metadata": {
    "id": "-lUVkaqL0XGA"
   },
   "source": [
    "**Q1**: 用线性回归矩阵形式下的最优模型参数闭式解（即$\\boldsymbol{\\hat{\\theta}} = (X^\\intercal X)^{-1}X^\\intercal y$）确定$\\theta_0$，$\\theta_1$. （25%）"
   ]
  },
  {
   "cell_type": "code",
   "execution_count": null,
   "metadata": {
    "id": "pDGDa5ECydkV"
   },
   "outputs": [],
   "source": [
    "from numpy.linalg import inv\n",
    "\n",
    "# 定义训练X矩阵，第0维数据全为1，为什么？\n",
    "X = np.vstack((np.ones(nsamp),xd))\n",
    "trainX = X.transpose()\n",
    "\n",
    "# 计算最优模型参数（使用课堂上学到的闭式解）\n",
    "[theta0,theta1] = # 填入正确的代码\n",
    "\n",
    "analyticalModel = np.array([theta0,theta1])"
   ]
  },
  {
   "cell_type": "markdown",
   "metadata": {
    "id": "9FtiGMN23KIC"
   },
   "source": [
    "### 评估你的模型"
   ]
  },
  {
   "cell_type": "markdown",
   "metadata": {
    "id": "6RypRZjK-qz7"
   },
   "source": [
    "以随机生成的数据为输入，用你的解析模型预测其对应的标签值，并且用numpy内置的polyfit函数做同样的事情。"
   ]
  },
  {
   "cell_type": "markdown",
   "metadata": {
    "id": "nDCkRp5n-OCs"
   },
   "source": [
    "**解析模型结果**"
   ]
  },
  {
   "cell_type": "code",
   "execution_count": null,
   "metadata": {
    "id": "vSFfG0jV4Ozu"
   },
   "outputs": [],
   "source": [
    "#评估你的模型\n",
    "\n",
    "# 为评估生成-1到1之间的均匀点\n",
    "xplot = np.linspace(-1, 1, nsamp)\n",
    "\n",
    "# 使用解析模型获取预测值\n",
    "ypredict = poly.polyval(xplot, analyticalModel)"
   ]
  },
  {
   "cell_type": "markdown",
   "metadata": {
    "id": "k1bw1Gk452cx"
   },
   "source": [
    "**Polyfit模型预测**"
   ]
  },
  {
   "cell_type": "code",
   "execution_count": null,
   "metadata": {
    "id": "1Cg67BEu571y"
   },
   "outputs": [],
   "source": [
    "# 使用numpy的polyfit函数拟合一个一次多项式\n",
    "polyfitModel = np.polyfit(xd, yd, 1)\n",
    "\n",
    "# 使用polyval在x = xplot处评估模型\n",
    "yfit = np.polyval(polyfitModel, xplot)"
   ]
  },
  {
   "cell_type": "markdown",
   "metadata": {
    "id": "ZV1pG9Py4rm2"
   },
   "source": [
    "### 绘图结果"
   ]
  },
  {
   "cell_type": "markdown",
   "metadata": {
    "id": "eK9RYWqW-zK4"
   },
   "source": [
    "绘制polyfit模型和解析模型的结果。图表应包含(x,y)训练数据点和拟合线。"
   ]
  },
  {
   "cell_type": "code",
   "execution_count": null,
   "metadata": {
    "id": "fh1xyJ7A4tes"
   },
   "outputs": [],
   "source": [
    "# 绘制图表\n",
    "fig, ax = plt.subplots()\n",
    "ax.scatter(xd, yd, label='Original Data', color='blue', alpha=0.5)\n",
    "\n",
    "# 绘制polyfit模型结果\n",
    "ax.plot(xplot, yfit, label='Polyfit Model', color='red', linestyle='--')\n",
    "\n",
    "# 绘制解析模型结果\n",
    "ax.plot(xplot, ypredict, label='Analytical Model', color='green', linestyle='-.')\n",
    "\n",
    "ax.set(xlabel='X', ylabel='Y', title='线性回归')\n",
    "ax.legend()\n",
    "ax.grid()\n",
    "plt.show()"
   ]
  },
  {
   "cell_type": "markdown",
   "metadata": {
    "id": "tprivZbIUtOW"
   },
   "source": [
    "## 线性回归的应用\n",
    "\n",
    "在这一部分，你将使用线性回归来处理一个真实的数据集。数据集包含了产品销售额，以及其在电视、广播和报纸上对应的广告投放量。试探究这些渠道上的广告开销如何影响该产品的销量。"
   ]
  },
  {
   "cell_type": "markdown",
   "metadata": {
    "id": "1OEW6RGKVpXF"
   },
   "source": [
    "### 读取数据\n",
    "\n",
    "将数据分割为训练集和测试集，70%的数据用于训练，其余用于测试。"
   ]
  },
  {
   "cell_type": "code",
   "execution_count": null,
   "metadata": {
    "id": "K_t22o9QWGF2"
   },
   "outputs": [],
   "source": [
    "import pandas as pd\n",
    "from sklearn.model_selection import train_test_split\n",
    "\n",
    "url = './Advertising.csv'\n",
    "df = pd.read_csv(url, index_col=0)\n",
    "df.head()\n",
    "\n",
    "train, test = train_test_split(df, test_size=0.3, random_state=42)"
   ]
  },
  {
   "cell_type": "markdown",
   "metadata": {
    "id": "5ZTV3hyCXhnU"
   },
   "source": [
    "### 线性回归模型"
   ]
  },
  {
   "cell_type": "markdown",
   "metadata": {
    "id": "kZvNEQsgWUnd"
   },
   "source": [
    "**Q2**: 用numpy内置的线性回归模型分别拟合产品销售额与电视、广播和报纸上广告投放量之间的关系。（25%）"
   ]
  },
  {
   "cell_type": "code",
   "execution_count": null,
   "metadata": {
    "id": "6hd_KDngXIvB"
   },
   "outputs": [],
   "source": [
    "from sklearn.linear_model import LinearRegression\n",
    "\n",
    "# 电视广告与销售额的线性回归\n",
    "reg_TV = LinearRegression().fit(train[['TV']], train['sales'])\n",
    "sales_TV_theta = [reg_TV.intercept_, reg_TV.coef_[0]]\n",
    "\n",
    "# 报纸广告与销售额的线性回归\n",
    "reg_newspaper = # 填入正确的代码\n",
    "sales_newspaper_theta = # 填入正确的代码\n",
    "\n",
    "# 广播广告与销售额的线性回归\n",
    "reg_radio = # 填入正确的代码\n",
    "sales_radio_theta = # 填入正确的代码\n",
    "\n",
    "sales_TV_theta, sales_newspaper_theta, sales_radio_theta"
   ]
  },
  {
   "cell_type": "markdown",
   "metadata": {
    "id": "tSd1ziYgXgC0"
   },
   "source": [
    "### 绘制数据\n",
    "\n",
    "使用模型进行预测，并绘制测试集的数据点和3个模型的预测结果。"
   ]
  },
  {
   "cell_type": "code",
   "execution_count": null,
   "metadata": {
    "id": "G_1o75bdXwkn"
   },
   "outputs": [],
   "source": [
    "fig = plt.figure(figsize=(12,3))\n",
    "\n",
    "## 销售额与电视广告投放量的关系拟合结果\n",
    "plt.subplot(1,3,1)\n",
    "plt.scatter(train['TV'], train['sales'], color='blue', alpha=0.5)\n",
    "plt.plot(train['TV'], reg_TV.intercept_ + reg_TV.coef_[0]*train['TV'], color='red')\n",
    "plt.title('TV Spend vs Sales')\n",
    "plt.xlabel('TV Spend')\n",
    "plt.ylabel('Sales')\n",
    "\n",
    "## 销售与报纸广告投放量的关系拟合结果\n",
    "plt.subplot(1,3,2)\n",
    "plt.scatter(train['newspaper'], train['sales'], color='blue', alpha=0.5)\n",
    "plt.plot(train['newspaper'], reg_newspaper.intercept_ + reg_newspaper.coef_[0]*train['newspaper'], color='red')\n",
    "plt.title('Newspaper Spend vs Sales')\n",
    "plt.xlabel('Newspaper Spend')\n",
    "\n",
    "## 销售与广播广告投放量的关系拟合结果\n",
    "plt.subplot(1,3,3)\n",
    "plt.scatter(train['radio'], train['sales'], color='blue', alpha=0.5)\n",
    "plt.plot(train['radio'], reg_radio.intercept_ + reg_radio.coef_[0]*train['radio'], color='red')\n",
    "plt.title('Radio Spend vs Sales')\n",
    "plt.xlabel('Radio Spend')\n",
    "\n",
    "# 图形展示\n",
    "plt.tight_layout()\n",
    "plt.show()\n"
   ]
  },
  {
   "cell_type": "markdown",
   "metadata": {
    "id": "uJVfnwMeZm43"
   },
   "source": [
    "## 多元线性回归\n",
    "\n",
    "**Q3**: 用多元线性回归矩阵形式下的最优模型参数闭式解（即$\\boldsymbol{\\hat{\\theta}} = (X^\\intercal X)^{-1}X^\\intercal y$）拟合这三种广告投放渠道（特征）的训练数据。（25%）"
   ]
  },
  {
   "cell_type": "code",
   "execution_count": null,
   "metadata": {
    "id": "wv4fhP-LdOiJ"
   },
   "outputs": [],
   "source": [
    "# 定义训练X矩阵\n",
    "X = # 填入正确的代码\n",
    "\n",
    "# 定义训练Y矩阵\n",
    "trainY = # 填入正确的代码\n",
    "\n",
    "# 计算最优模型参数（使用课堂上学到的闭式解）\n",
    "multivariate_theta = # 填入正确的代码"
   ]
  },
  {
   "cell_type": "markdown",
   "metadata": {
    "id": "nbYrPsvyO588"
   },
   "source": [
    "### 评估模型\n",
    "\n",
    "**Q4**: 使用你的多元线性模型在测试数据上进行预测。（25%）"
   ]
  },
  {
   "cell_type": "code",
   "execution_count": null,
   "metadata": {
    "id": "8Goo4MfdNvuY"
   },
   "outputs": [],
   "source": [
    "# 定义测试X矩阵\n",
    "X = # 填入正确的代码\n",
    "\n",
    "# 定义测试Y矩阵\n",
    "testY = # 填入正确的代码\n",
    "\n",
    "# 使用你的模型multivariate_theta预测结果：\\hat{y} = X𝜽\n",
    "pred = # 填入正确的代码"
   ]
  },
  {
   "cell_type": "markdown",
   "metadata": {
    "id": "sCP2X-SWPcsr"
   },
   "source": [
    "### 绘制结果\n",
    "\n",
    "绘制你的预测结果与实际标签的对比图。"
   ]
  },
  {
   "cell_type": "code",
   "execution_count": null,
   "metadata": {
    "id": "sLG7eh7JNb8p"
   },
   "outputs": [],
   "source": [
    "fig, ax = plt.subplots()\n",
    "\n",
    "# 实际销售与预测销售的散点图\n",
    "ax.scatter(testY, pred, color='blue', alpha=0.5)\n",
    "\n",
    "# 参考线y=x\n",
    "ax.plot([min(testY), max(testY)], [min(testY), max(testY)], color='red', linestyle='--')\n",
    "\n",
    "ax.set(xlabel='Actual Sales', ylabel='Predicted Sales',\n",
    "       title='Multivariate Linear Regression')\n",
    "ax.grid()\n",
    "plt.show()\n"
   ]
  }
 ],
 "metadata": {
  "colab": {
   "provenance": []
  },
  "kernelspec": {
   "display_name": "Python 3 (ipykernel)",
   "language": "python",
   "name": "python3"
  },
  "language_info": {
   "codemirror_mode": {
    "name": "ipython",
    "version": 3
   },
   "file_extension": ".py",
   "mimetype": "text/x-python",
   "name": "python",
   "nbconvert_exporter": "python",
   "pygments_lexer": "ipython3",
   "version": "3.9.12"
  }
 },
 "nbformat": 4,
 "nbformat_minor": 4
}
