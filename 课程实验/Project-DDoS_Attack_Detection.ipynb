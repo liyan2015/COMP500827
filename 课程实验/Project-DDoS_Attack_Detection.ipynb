{
 "cells": [
  {
   "cell_type": "markdown",
   "metadata": {},
   "source": [
    "# COMP500827 机器学习在信息安全中的应用 <br> 课程实验：DDoS攻击流量检测 <br> 截止日期：2025年1月6日24:00"
   ]
  },
  {
   "cell_type": "markdown",
   "metadata": {},
   "source": [
    "姓名：，学号："
   ]
  },
  {
   "cell_type": "markdown",
   "metadata": {},
   "source": [
    "**提交要求**：\n",
    "- 务必在上面填上自己的姓名和学号\n",
    "- 提交内容应包括：以jupyter notebook形式编写的Python代码（文件后缀名为.ipynb）、带所有输出结果的jupyter notebook文件对应的PDF文件（注意：不需要把数据打包）\n",
    "- 所有文件须用zip格式打包成一个压缩包，要求解压即可运行\n",
    "- 压缩包上传至教学系统（https://class.xjtu.edu.cn/course/74005/homework#/ ）\n",
    "\n",
    "**迟交惩罚制度**：在截止时间前提交的作业/大实验不会遭受任何迟交惩罚。每位学生在整个课程期间有三天的延期时间，可以根据自己的需要使用。在使用这三天延期时，每延迟一天，你的作业/大实验成绩将被扣除15%。你可以根据自己的需要灵活使用这三天延期。例如，你可以将这三天全都用在一个作业/大实验上（本次作业/大实验最多只能获得55%的分数），或者分开使用，每个作业/大实验使用一天延期（每个作业/大实验的最高分为85%）。一旦你使用完这三天延期，之后提交的任何迟交作业将无法获得学分。"
   ]
  },
  {
   "cell_type": "markdown",
   "metadata": {},
   "source": [
    "# 利用有监督学习进行DDoS攻击流量检测\n",
    "\n",
    "通过本次实验，探索如何利用有监督机器学习技术来检测分布式拒绝服务 (DDoS) 攻击。\n",
    "\n",
    "## 实验目标\n",
    "\n",
    "1. 了解如何处理物联网设备的流量数据 \n",
    "2. 搭建一个简单的前馈神经网络\n",
    "3. 比较人工神经网络和其他机器学习算法的性能"
   ]
  },
  {
   "cell_type": "code",
   "execution_count": null,
   "metadata": {},
   "outputs": [],
   "source": [
    "# 如果使用新版本的pytorch，可能需要降低numpy的版本：https://stackoverflow.com/questions/78636947/a-module-that-was-compiled-using-numpy-1-x-cannot-be-run-in-numpy-2-0-0-as-it-ma\n",
    "# pip install numpy==1.26.4\n",
    "# pip install torch"
   ]
  },
  {
   "cell_type": "code",
   "execution_count": null,
   "metadata": {
    "colab": {
     "autoexec": {
      "startup": false,
      "wait_interval": 0
     }
    },
    "colab_type": "code",
    "id": "8ZH1s2vy5acJ",
    "outputId": "19e901f4-ce58-4494-9ddc-42d743882fea"
   },
   "outputs": [],
   "source": [
    "import numpy as np\n",
    "import pandas as pd\n",
    "from collections import defaultdict\n",
    "import math\n",
    "\n",
    "# Scikit-learn库：SVM、KNN、分类指标等\n",
    "from sklearn.model_selection import train_test_split\n",
    "from sklearn import metrics\n",
    "from sklearn.neighbors import KNeighborsClassifier\n",
    "from sklearn.svm import LinearSVC\n",
    "from sklearn import svm\n",
    "\n",
    "# PyTorch库：用于搭建神经网络\n",
    "import torch\n",
    "import torch.nn as nn\n",
    "import torch.optim as optim\n",
    "from torch.utils.data import DataLoader, TensorDataset\n",
    "\n",
    "# Matplotlib库：用于画图\n",
    "import matplotlib.pyplot as plt\n",
    "import itertools\n",
    "%matplotlib inline"
   ]
  },
  {
   "cell_type": "markdown",
   "metadata": {
    "colab_type": "text",
    "id": "1Y9T7bD_5acV"
   },
   "source": [
    "### 读取正常流量数据\n",
    "该数据集来源于三个物联网设备（一个安全摄像头、一个血压计和一个智能开关）在10分钟内的正常流量。 数据的详细收集过程见[论文](https://ieeexplore.ieee.org/document/8424629)"
   ]
  },
  {
   "cell_type": "code",
   "execution_count": null,
   "metadata": {
    "colab": {
     "autoexec": {
      "startup": false,
      "wait_interval": 0
     }
    },
    "colab_type": "code",
    "id": "WrvS394W5acX"
   },
   "outputs": [],
   "source": [
    "normal = pd.read_csv('./data/normal.csv')\n",
    "# 二分类任务, Class = 1 (攻击流量)；Class = 0 (正常流量)\n",
    "normal['Label'] = 0"
   ]
  },
  {
   "cell_type": "code",
   "execution_count": null,
   "metadata": {
    "colab": {
     "autoexec": {
      "startup": false,
      "wait_interval": 0
     }
    },
    "colab_type": "code",
    "id": "4lZuwGaP5acb"
   },
   "outputs": [],
   "source": [
    "# 将流量数据按照不同设备的IP进行分割\n",
    "\n",
    "# WeMo智能开关\n",
    "normal_switch = normal[normal['Source'] == '172.24.1.81']\n",
    "\n",
    "# Yi家庭摄像头\n",
    "normal_camera = normal[normal['Source'] == '172.24.1.107']\n",
    "\n",
    "# 安卓手机\n",
    "normal_phone = normal[normal['Source'] == '172.24.1.63']"
   ]
  },
  {
   "cell_type": "markdown",
   "metadata": {
    "colab_type": "text",
    "id": "2IsnpyBg5acd"
   },
   "source": [
    "### 读取攻击流量数据\n",
    "该数据集来源于模拟实验环境下收集到的Mirai僵尸网络攻击流量。具体地说，该实验用Kali linux虚拟机作DoS源，用Raspberry Pi 2运行Apache web服务器作为被攻击者，模拟了感染Mirai僵尸网络的物联网设备会执行的三种最常见的拒绝服务攻击：TCP SYN Flood，UDP Flood，HTTP GET Flood：\n",
    "\n",
    "1. HTTP GET Flood - 2 分钟; 使用 Goldeneye 在 Linux 虚拟机上模拟攻击 Google.com\n",
    "2. TCP SYN Flood - 5 分钟; 使用 hping3 在 Raspberry Pi 上模拟攻击局域网上的 Linux 虚拟机\n",
    "3. UDP Flood - 2.5 分钟; 使用 hping3 在 Raspberry Pi 上模拟攻击局域网上的 Linux 虚拟机\n",
    "\n",
    "通过对攻击流量进行预处理，实验得以将三台主机上的攻击流量与正常流量叠加。三台物联网设备都感染了僵尸网络，并将在实验周期内以随机顺序执行四次攻击，每次攻击的持续时间约为100秒。这样，在任何给定时间内，都有50%的概率正在进行攻击（(100s * 3)/(60s * 10min) = .5）。 \n",
    "\n",
    "在攻击期间，每个设备都能同时发送攻击流量和正常流量。设备之间的攻击分布是相互独立的。实验假设所有攻击的目标IP为：8.8.8.8，端口固定（80 用于 http 攻击，443 用于 tcp/udp 攻击）。 "
   ]
  },
  {
   "cell_type": "code",
   "execution_count": null,
   "metadata": {
    "colab": {
     "autoexec": {
      "startup": false,
      "wait_interval": 0
     }
    },
    "colab_type": "code",
    "id": "-3oRZUTa5acg"
   },
   "outputs": [],
   "source": [
    "# 读取攻击流量数据\n",
    "attack_http = pd.read_csv('./data/http_get_attack.csv')\n",
    "attack_tcp = pd.read_csv('./data/tcp_flood.csv')\n",
    "attack_udp = pd.read_csv('./data/udp_flood.csv')\n",
    "\n",
    "# 添加标签，0表示正常流量，1表示攻击流量\n",
    "attack_http['Label'] = 1\n",
    "attack_tcp['Label'] = 1\n",
    "attack_udp['Label'] = 1\n",
    "\n",
    "# 通过隔离源IP地址来清理攻击数据\n",
    "# 只考虑来自网络内部的 DOS 攻击。\n",
    "attack_http = attack_http[ (attack_http['Source'] == '172.24.1.67') & (attack_http['Destination'] == '172.217.11.36')]\n",
    "attack_tcp = attack_tcp[ (attack_tcp['Source'] == '172.24.1.108') & (attack_tcp['Destination'] == '172.24.1.67') ]\n",
    "attack_udp = attack_udp[ (attack_udp['Source'] == '172.24.1.108') & (attack_udp['Destination'] == '172.24.1.67') ]\n",
    "\n",
    "# 假设攻击的目标IP都为8.8.8.8\n",
    "attack_http['Destination'] = '8.8.8.8'\n",
    "attack_tcp['Destination'] = '8.8.8.8'\n",
    "attack_udp['Destination'] = '8.8.8.8'\n",
    "\n",
    "# 设置攻击的目的端口\n",
    "attack_http['Dst_port'] = 80\n",
    "attack_tcp['Dst_port'] = 443\n",
    "attack_udp['Dst_port'] = 443"
   ]
  },
  {
   "cell_type": "code",
   "execution_count": null,
   "metadata": {
    "colab": {
     "autoexec": {
      "startup": false,
      "wait_interval": 0
     }
    },
    "colab_type": "code",
    "id": "j6xFzyzq5acj",
    "outputId": "2ddd0758-eeb0-4931-e18f-904abbedf520"
   },
   "outputs": [],
   "source": [
    "attack_tcp.head(10)"
   ]
  },
  {
   "cell_type": "markdown",
   "metadata": {
    "colab_type": "text",
    "id": "MUH31KtR5acm"
   },
   "source": [
    "#### 设备1（WeMo 智能开关）攻击介绍  \n",
    "攻击1：HTTP GET Flood, 90 seconds, 20-110 sec  \n",
    "攻击2：TCP SYN Flood, 110 seconds, 300-410 sec  \n",
    "攻击3：UDP Flood, 100 seconds, 475-575 sec  "
   ]
  },
  {
   "cell_type": "code",
   "execution_count": null,
   "metadata": {
    "colab": {
     "autoexec": {
      "startup": false,
      "wait_interval": 0
     }
    },
    "colab_type": "code",
    "id": "FT7yKT235acn",
    "outputId": "f07b57d8-f56c-40f2-973a-23ed54ba3c46"
   },
   "outputs": [],
   "source": [
    "# 攻击 1\n",
    "attack_http_switch = attack_http[attack_http['Time'] <= 90]\n",
    "attack_http_switch.loc[:,'Time'] = attack_http_switch.loc[:,'Time'] + 20\n",
    "attack_http_switch.loc[:,'Source'] = '172.24.1.81'\n",
    "\n",
    "# 攻击 2\n",
    "attack_tcp_switch = attack_tcp[attack_tcp['Time'] <= 110]\n",
    "attack_tcp_switch.loc[:,'Time'] = attack_tcp_switch.loc[:,'Time'] + 300\n",
    "attack_tcp_switch.loc[:,'Source'] = '172.24.1.81'\n",
    "\n",
    "# 攻击 3\n",
    "attack_udp_switch = attack_udp[attack_udp['Time'] <= 100]\n",
    "attack_udp_switch.loc[:,'Time'] = attack_udp_switch.loc[:,'Time'] + 475\n",
    "attack_udp_switch.loc[:,'Source'] = '172.24.1.81'"
   ]
  },
  {
   "cell_type": "markdown",
   "metadata": {
    "colab_type": "text",
    "id": "9ZNEjCsk5acq"
   },
   "source": [
    "#### 设备2（YI 家庭摄像头）攻击介绍  \n",
    "攻击1：TCP SYN Flood, 80 seconds, 25-107 sec  \n",
    "攻击2：HTTP GET Flood, 100 seconds, 310-410 sec  \n",
    "攻击3：UDP Flood, 120 seconds, 450-570 sec  "
   ]
  },
  {
   "cell_type": "code",
   "execution_count": null,
   "metadata": {
    "colab": {
     "autoexec": {
      "startup": false,
      "wait_interval": 0
     }
    },
    "colab_type": "code",
    "id": "D6svm0F15acr",
    "outputId": "bf50faf1-daec-426f-e276-8e97a00ea7ac"
   },
   "outputs": [],
   "source": [
    "# 攻击 1\n",
    "attack_tcp_camera = attack_tcp[attack_tcp['Time'] <= 80]\n",
    "attack_tcp_camera.loc[:,'Time'] = attack_tcp_camera['Time'] + 25\n",
    "attack_tcp_camera.loc[:,'Source'] = '172.24.1.107'\n",
    "\n",
    "# 攻击 2\n",
    "attack_http_camera = attack_http[attack_http['Time'] <= 100]\n",
    "attack_http_camera.loc[:,'Time'] = attack_http_camera['Time'] + 310\n",
    "attack_http_camera.loc[:,'Source'] = '172.24.1.107'\n",
    "\n",
    "# 攻击 3\n",
    "attack_udp_camera = attack_udp[attack_udp['Time'] <= 120]\n",
    "attack_udp_camera.loc[:,'Time'] = attack_udp_camera['Time'] + 450\n",
    "attack_udp_camera.loc[:,'Source'] = '172.24.1.107'"
   ]
  },
  {
   "cell_type": "markdown",
   "metadata": {
    "colab_type": "text",
    "id": "z5C8Qvjl5acv"
   },
   "source": [
    "#### 设备3（安卓手机）攻击介绍  \n",
    "攻击1：UDP Flood, 105 seconds, 5-120 sec  \n",
    "攻击2：TCP SYN Flood, 80 seconds, 240-320 sec  \n",
    "攻击3：HTPP GET Flood, 115 seconds, 420-535 sec  "
   ]
  },
  {
   "cell_type": "code",
   "execution_count": null,
   "metadata": {
    "colab": {
     "autoexec": {
      "startup": false,
      "wait_interval": 0
     }
    },
    "colab_type": "code",
    "id": "2KMVzYPv5acx",
    "outputId": "86133cdf-0260-4337-b9c0-a7ac4a6b46d2"
   },
   "outputs": [],
   "source": [
    "# 攻击 1\n",
    "attack_udp_phone = attack_udp[attack_udp['Time'] <= 105]\n",
    "attack_udp_phone.loc[:,'Time'] = attack_udp_phone['Time'] + 5\n",
    "attack_udp_phone.loc[:,'Source'] = '172.24.1.63'\n",
    "\n",
    "# 攻击 2\n",
    "attack_tcp_phone = attack_tcp[attack_tcp['Time'] <= 80]\n",
    "attack_tcp_phone.loc[:,'Time'] = attack_tcp_phone['Time'] + 240\n",
    "attack_tcp_phone.loc[:,'Source'] = '172.24.1.63'\n",
    "\n",
    "# 攻击 3\n",
    "attack_http_phone = attack_http[attack_http['Time'] <= 115]\n",
    "attack_http_phone.loc[:,'Time'] = attack_http_phone['Time'] + 420\n",
    "attack_http_phone.loc[:,'Source'] = '172.24.1.63'"
   ]
  },
  {
   "cell_type": "markdown",
   "metadata": {
    "colab_type": "text",
    "id": "lfVw7l6F5ac1"
   },
   "source": [
    "### 提取每一台设备的流量特征和标签（1表示攻击，0表示正常）"
   ]
  },
  {
   "cell_type": "code",
   "execution_count": null,
   "metadata": {
    "colab": {
     "autoexec": {
      "startup": false,
      "wait_interval": 0
     }
    },
    "colab_type": "code",
    "id": "x98voLXm5ac3"
   },
   "outputs": [],
   "source": [
    "# 合并攻击和正常流量\n",
    "switch_data = pd.concat([normal_switch, attack_http_switch, attack_tcp_switch, attack_udp_switch])\n",
    "camera_data = pd.concat([normal_camera, attack_http_camera, attack_tcp_camera, attack_udp_camera])\n",
    "phone_data = pd.concat([normal_phone, attack_http_phone, attack_tcp_phone, attack_udp_phone])"
   ]
  },
  {
   "cell_type": "code",
   "execution_count": null,
   "metadata": {
    "colab": {
     "autoexec": {
      "startup": false,
      "wait_interval": 0
     }
    },
    "colab_type": "code",
    "id": "0Zaf_rdh5ac5"
   },
   "outputs": [],
   "source": [
    "# 生成设备特定的时间特征\n",
    "def generate_device_temporal_features_and_labels(data):\n",
    "    # 将每一个时间戳量化到10秒钟的时间间隔\n",
    "    data['TimeBin'] = data['Time']\n",
    "    data['TimeBin'] = (data['TimeBin']/10.0)\n",
    "    data['TimeBin'] = data['TimeBin'].apply(np.floor)\n",
    "    # 按照时间间隔提取新特征\n",
    "    group = data.groupby(['TimeBin'])\n",
    "    group_features = group.apply(group_feature_extractor)\n",
    "    group_features['device_timebin_delta_num_dest'] = group_features['device_timebin_num_dest'].diff(periods=1)\n",
    "    group_features['device_timebin_delta_num_dest'] = group_features['device_timebin_delta_num_dest'].fillna(0)\n",
    "\n",
    "    data = data.merge(group_features, left_on='TimeBin', right_index=True)\n",
    "    return data\n",
    "    \n",
    "def group_feature_extractor(g):\n",
    "    ten_sec_traffic = (g['Length']).sum() / 10\n",
    "    ten_sec_num_host = len(set(g['Destination']))\n",
    "    return pd.Series([ten_sec_traffic, ten_sec_num_host], index = ['device_timebin_bandwidth', 'device_timebin_num_dest'])"
   ]
  },
  {
   "cell_type": "code",
   "execution_count": null,
   "metadata": {
    "colab": {
     "autoexec": {
      "startup": false,
      "wait_interval": 0
     }
    },
    "colab_type": "code",
    "id": "0cfnuuLJ5ac9"
   },
   "outputs": [],
   "source": [
    "switch_data = generate_device_temporal_features_and_labels(switch_data)\n",
    "camera_data = generate_device_temporal_features_and_labels(camera_data)\n",
    "phone_data = generate_device_temporal_features_and_labels(phone_data)"
   ]
  },
  {
   "cell_type": "code",
   "execution_count": null,
   "metadata": {
    "colab": {
     "autoexec": {
      "startup": false,
      "wait_interval": 0
     }
    },
    "colab_type": "code",
    "id": "_NtGLBp45adA",
    "outputId": "856f8746-cb9e-4dfc-dec0-cb5e0427c66d"
   },
   "outputs": [],
   "source": [
    "switch_data"
   ]
  },
  {
   "cell_type": "code",
   "execution_count": null,
   "metadata": {
    "colab": {
     "autoexec": {
      "startup": false,
      "wait_interval": 0
     }
    },
    "colab_type": "code",
    "id": "1VFZhUGu5adE"
   },
   "outputs": [],
   "source": [
    "def generate_features_and_labels(data):\n",
    "    data.sort_values(by=['Time'],  ascending=[1]) # 按照时间排序所有流量\n",
    "    data = data.dropna() # 删除缺少源端口或目的端口的行\n",
    "    data = data.reset_index(drop=True)\n",
    "    \n",
    "    # 生成特征\n",
    "    features = data.copy(deep=True)\n",
    "\n",
    "    # 发包速度、加速度和加速度变化率\n",
    "    features['dT'] = features['Time'] - features['Time'].shift(3)\n",
    "    features['dT2'] = features['dT'] - features['dT'].shift(3)\n",
    "    features['dT3'] = features['dT2'] - features['dT2'].shift(3)\n",
    "    features = features.fillna(0)\n",
    "\n",
    "    # 常用协议（HTTP：TCP、UDP 和 OTHER）的 one-hot encoding\n",
    "    features['is_HTTP'] = 0\n",
    "    features.loc[ ( (features['Protocol'] == 'HTTP') | (features['Protocol'] == 'HTTP/XML') ), ['is_HTTP']] = 1\n",
    "\n",
    "    features['is_TCP'] = 0\n",
    "    features.loc[features['Protocol'] == 'TCP', ['is_TCP']] = 1\n",
    "\n",
    "    features['is_UDP'] = 0\n",
    "    features.loc[features['Protocol'] == 'UDP', ['is_UDP']] = 1\n",
    "\n",
    "    features['is_OTHER'] = 0\n",
    "    features.loc[(\n",
    "                    (features['Protocol'] != 'HTTP') &\n",
    "                    (features['Protocol'] != 'HTTP/XML') &\n",
    "                    (features['Protocol'] != 'TCP') &\n",
    "                    (features['Protocol'] != 'UDP') \n",
    "                ), ['is_OTHER']] = 1\n",
    "\n",
    "    # 生成标签\n",
    "    labels = features['Label']\n",
    "\n",
    "    # 删除没有意义或无法量化的特征\n",
    "    del features['No.']\n",
    "    del features['Time']\n",
    "    del features['Source']\n",
    "    del features['Destination']\n",
    "    del features['Protocol']\n",
    "    del features['Info']\n",
    "    del features['Src_port']\n",
    "    del features['Dst_port']\n",
    "    del features['Delta_time']\n",
    "    del features['Label']\n",
    "    del features['TimeBin']\n",
    "    \n",
    "    return (features, labels)"
   ]
  },
  {
   "cell_type": "code",
   "execution_count": null,
   "metadata": {
    "colab": {
     "autoexec": {
      "startup": false,
      "wait_interval": 0
     }
    },
    "colab_type": "code",
    "id": "QqyWZ6hW5adF",
    "outputId": "c67b7b21-6b18-4e5e-c915-c66537d4be10"
   },
   "outputs": [],
   "source": [
    "# 生成特征数据和每一条数据实例对应的标签\n",
    "switch_features, switch_labels = generate_features_and_labels(switch_data)\n",
    "camera_features, camera_labels = generate_features_and_labels(camera_data)\n",
    "phone_features, phone_labels = generate_features_and_labels(phone_data)"
   ]
  },
  {
   "cell_type": "code",
   "execution_count": null,
   "metadata": {
    "colab": {
     "autoexec": {
      "startup": false,
      "wait_interval": 0
     }
    },
    "colab_type": "code",
    "id": "Wk5nyG2-5adI",
    "scrolled": true
   },
   "outputs": [],
   "source": [
    "all_features = pd.concat([switch_features, camera_features, phone_features])\n",
    "all_labels = pd.concat([switch_labels, camera_labels, phone_labels])\n",
    "all_features"
   ]
  },
  {
   "cell_type": "code",
   "execution_count": null,
   "metadata": {},
   "outputs": [],
   "source": [
    "# 绘制Confusion Matrix和计算分类指标\n",
    "def plot_confusion_matrix(\n",
    "        cm, classes, y_pred, y,\n",
    "        title='Confusion matrix',\n",
    "        cmap=plt.cm.Blues,\n",
    "        plot_flag=True\n",
    "    ):\n",
    "    \n",
    "    # 计算AUC\n",
    "    test_fpr, test_tpr, te_thresholds = metrics.roc_curve(y, y_pred)\n",
    "    auc = metrics.auc(test_fpr, test_tpr)\n",
    "    \n",
    "    if plot_flag:\n",
    "        # 绘制confusion matrix\n",
    "        fmt = 'd' \n",
    "        thresh = cm.max() / 2.\n",
    "        for i, j in itertools.product(range(cm.shape[0]), range(cm.shape[1])):\n",
    "            plt.text(j, i, format(cm[i, j], fmt), fontsize=20,\n",
    "                     horizontalalignment=\"center\",\n",
    "                     color=\"white\" if cm[i, j] > thresh else \"black\")\n",
    "\n",
    "        plt.imshow(cm, interpolation='nearest', cmap=cmap)\n",
    "        plt.title(title, fontsize=20)\n",
    "        plt.colorbar()\n",
    "        tick_marks = np.arange(len(classes))\n",
    "        plt.xticks(tick_marks, classes, fontsize=15)\n",
    "        plt.yticks(tick_marks, classes, fontsize=15)\n",
    "        plt.tight_layout()\n",
    "        plt.ylabel('True label', fontsize=20)\n",
    "        plt.xlabel('Predicted label', fontsize=20)\n",
    "\n",
    "        # 绘制AUC curve\n",
    "        fig, ax = plt.subplots(figsize=(6,5))\n",
    "        plt.grid()\n",
    "        plt.plot(test_fpr, test_tpr, label=f\"AUC={auc:.4f}\")\n",
    "        plt.plot([0,1],[0,1],'g--')\n",
    "        plt.legend(fontsize=20)\n",
    "        plt.xticks(fontsize=15)\n",
    "        plt.yticks(fontsize=15)\n",
    "        plt.xlabel(\"False Positive Rate\", fontsize=20)\n",
    "        plt.ylabel(\"True Positive Rate\", fontsize=20)\n",
    "        plt.title(\"AUC (ROC curve)\", fontsize=20)\n",
    "        plt.grid(color='black', linestyle='-', linewidth=0.5)\n",
    "        plt.show()\n",
    "\n",
    "        print(f\"Accuracy: {metrics.accuracy_score(y, y_pred):.4f}, Precision: {metrics.precision_score(y, y_pred):.4f}, Recall: {metrics.recall_score(y, y_pred):.4f}, F1 score: {metrics.f1_score(y, y_pred):.4f}\")\n",
    "        \n",
    "    return auc"
   ]
  },
  {
   "cell_type": "markdown",
   "metadata": {},
   "source": [
    "# Q1：调整神经网络结构，搭建自己的神经网络（45%）"
   ]
  },
  {
   "cell_type": "code",
   "execution_count": null,
   "metadata": {
    "colab": {
     "autoexec": {
      "startup": false,
      "wait_interval": 0
     }
    },
    "colab_type": "code",
    "id": "UHlJruCZ5adY"
   },
   "outputs": [],
   "source": [
    "def train_test(data, labels, classes = ['Normal', 'Attack'], epochs = 1):\n",
    "    x_train, x_test, y_train, y_test = train_test_split(data, labels, test_size=0.15)   \n",
    "\n",
    "    # 把numpy数据转化为PyTorch tensor\n",
    "    x_train_tensor = torch.tensor(x_train, dtype=torch.float32)\n",
    "    x_test_tensor = torch.tensor(x_test, dtype=torch.float32)\n",
    "    y_train_tensor = torch.tensor(y_train, dtype=torch.float32).unsqueeze(1)\n",
    "    y_test_tensor = torch.tensor(y_test, dtype=torch.float32).unsqueeze(1)\n",
    "\n",
    "    # 用dataloader准备好训练数据\n",
    "    train_dataset = TensorDataset(x_train_tensor, y_train_tensor)\n",
    "    train_loader = DataLoader(train_dataset, batch_size=32, shuffle=True)\n",
    "\n",
    "    # 定义神经网络结构\n",
    "    class Model(nn.Module):\n",
    "        def __init__(self, input_dim):\n",
    "            # 改变你的网络结构 https://pytorch.org/tutorials/beginner/introyt/modelsyt_tutorial.html\n",
    "            super(Model, self).__init__()\n",
    "            self.fc1 = nn.Linear(input_dim, 3)\n",
    "            self.relu = nn.ReLU()\n",
    "            self.fc2 = nn.Linear(3, 1)\n",
    "            self.sigmoid = nn.Sigmoid()\n",
    "            ...\n",
    "\n",
    "        def forward(self, x):\n",
    "            # 相应地改变每层的激活函数\n",
    "            x = self.relu(self.fc1(x))\n",
    "            x = self.sigmoid(self.fc2(x))\n",
    "            ...\n",
    "            return x\n",
    "\n",
    "    # 根据训练数据确定输入层维度\n",
    "    input_dim = x_train.shape[1]\n",
    "    model = Model(input_dim)\n",
    "\n",
    "    # 定义损失函数和模型参数优化算法\n",
    "    criterion = nn.MSELoss() # Mean Square Error Loss\n",
    "    optimizer = optim.SGD(model.parameters()) # Stochastic Gradient Descent Optimizer    \n",
    "#     criterion = nn.BCELoss()  # Binary Cross Entropy Loss\n",
    "#     optimizer = optim.RMSprop(model.parameters()) # Root Mean Square Propagation Optimizer\n",
    "\n",
    "    # 根据epoch数量循环训练\n",
    "    for epoch in range(epochs):\n",
    "        model.train()\n",
    "        for batch in train_loader:\n",
    "            x_batch, y_batch = batch\n",
    "\n",
    "            # 输出当前模型参数前馈预测结果\n",
    "            outputs = model(x_batch)\n",
    "\n",
    "            # 基于当前输出，计算损失函数值\n",
    "            loss = criterion(outputs, y_batch)\n",
    "\n",
    "            # 利用反向传播算法计算梯度，并使用选择的优化算法调整模型参数\n",
    "            optimizer.zero_grad()\n",
    "            loss.backward()\n",
    "            optimizer.step()\n",
    "\n",
    "        print(f\"Epoch [{epoch+1}/{epochs}], Loss: {loss.item():.4f}\")\n",
    "\n",
    "    # 在测试集上收集分类结果\n",
    "    model.eval()\n",
    "    with torch.no_grad():\n",
    "        y_predict = model(x_test_tensor)\n",
    "        y_predict = torch.round(y_predict)  # 将softmax形式的结果近似到0或1\n",
    "\n",
    "    # 评估分类性能\n",
    "    cm = metrics.confusion_matrix(y_test, y_predict)\n",
    "    plot_confusion_matrix(cm, classes, y_predict, y_test)"
   ]
  },
  {
   "cell_type": "code",
   "execution_count": null,
   "metadata": {
    "scrolled": true
   },
   "outputs": [],
   "source": [
    "data, labels = all_features.values, np.asarray(all_labels)\n",
    "train_test(data, labels, epochs = 5) # 可以改成你认为合适的训练轮数"
   ]
  },
  {
   "cell_type": "markdown",
   "metadata": {
    "colab_type": "text",
    "id": "D5Ew0g-05adL"
   },
   "source": [
    "# Q2：选择合适的特征，并寻找合适的方法规范化数据。（35%）\n",
    "https://en.wikipedia.org/wiki/Standard_score\n",
    "\n",
    "零均值规范化定义：$z = \\frac{x-\\mu}{\\sigma}$\n",
    "- $\\mu$：x的平均值\n",
    "- $\\sigma$：x的标准差"
   ]
  },
  {
   "cell_type": "code",
   "execution_count": null,
   "metadata": {
    "colab": {
     "autoexec": {
      "startup": false,
      "wait_interval": 0
     }
    },
    "colab_type": "code",
    "id": "OYjZ7VNK5adM"
   },
   "outputs": [],
   "source": [
    "# 用零均值规范化（z-socre标准化、Standardization）处理数值型特征\n",
    "numerical = all_features.iloc[:, [0]] # 选择你认为最有效的特征\n",
    "numerical = # 填入正确的代码\n",
    "\n",
    "# 将类别型特征的标签从[0,1]调整为[-1,1]\n",
    "categorical = all_features.iloc[:, [7]] # 选择你认为最有效的特征\n",
    "categorical = # 填入正确的代码\n",
    "\n",
    "# 数据重组\n",
    "all_features_normalized = pd.concat([numerical, categorical], axis=1)"
   ]
  },
  {
   "cell_type": "code",
   "execution_count": null,
   "metadata": {
    "colab": {
     "autoexec": {
      "startup": false,
      "wait_interval": 0
     }
    },
    "colab_type": "code",
    "id": "D8lvBDVC5adP",
    "outputId": "6d40b8e4-571d-4b45-80ca-d634e26fddfa"
   },
   "outputs": [],
   "source": [
    "all_features_normalized"
   ]
  },
  {
   "cell_type": "markdown",
   "metadata": {
    "colab_type": "text",
    "id": "Z0pmjLO25adX"
   },
   "source": [
    "### 训练和测试神经网络"
   ]
  },
  {
   "cell_type": "code",
   "execution_count": null,
   "metadata": {
    "scrolled": true
   },
   "outputs": [],
   "source": [
    "data, labels = all_features_normalized.values, np.asarray(all_labels)\n",
    "train_test(data, labels, epochs = 5) # 可以改成你认为合适的训练轮数"
   ]
  },
  {
   "cell_type": "markdown",
   "metadata": {
    "colab_type": "text",
    "id": "ZU53wFLi5adi"
   },
   "source": [
    "# Q3：尝试用其他机器学习模型（例如SVM、KNN）来解决问题（20%）"
   ]
  },
  {
   "cell_type": "code",
   "execution_count": null,
   "metadata": {},
   "outputs": [],
   "source": [
    "# 如果svm.SVC()太慢，尝试用LinearSVC()\n",
    "def train_test_general(data, labels, classes = ['Normal', 'Attack']):\n",
    "    x_train, x_test, y_train, y_test = train_test_split(data, labels, test_size=0.15)   \n",
    "\n",
    "    # 初始化其他机器学习模型\n",
    "    classifier_svm = # 填入正确的代码\n",
    "    classifier_knn = # 填入正确的代码\n",
    "    \n",
    "    # 用训练集训练模型\n",
    "    # 填入正确的代码\n",
    "    ...\n",
    "    \n",
    "    # 输出分类结果\n",
    "    y_predict_svm = # 填入正确的代码\n",
    "    y_predict_knn = # 填入正确的代码\n",
    "\n",
    "    # 分析\n",
    "    cm = metrics.confusion_matrix(y_test, y_predict_svm)\n",
    "    plot_confusion_matrix(cm, classes, y_predict_svm, y_test)\n",
    "    \n",
    "    cm = metrics.confusion_matrix(y_test, y_predict_knn)\n",
    "    plot_confusion_matrix(cm, classes, y_predict_knn, y_test)"
   ]
  },
  {
   "cell_type": "code",
   "execution_count": null,
   "metadata": {},
   "outputs": [],
   "source": [
    "data, labels = all_features_normalized.values, np.asarray(all_labels)\n",
    "train_test_general(data, labels)"
   ]
  },
  {
   "cell_type": "markdown",
   "metadata": {},
   "source": [
    "1. 比较不同模型的性能，想想哪一个模型的性能更好？为什么？结合课堂内容，简单谈谈你对数据特征、超参数调优、模型选择的感想。"
   ]
  },
  {
   "cell_type": "markdown",
   "metadata": {},
   "source": [
    "答："
   ]
  },
  {
   "cell_type": "markdown",
   "metadata": {},
   "source": [
    "2. 该实验的攻击流量检测方法需要直接获取所有物联网设备的流量相关特征历史数据。试简单讨论收集和测量这些数据可能带来的隐私泄露风险。"
   ]
  },
  {
   "cell_type": "markdown",
   "metadata": {},
   "source": [
    "答"
   ]
  }
 ],
 "metadata": {
  "colab": {
   "default_view": {},
   "name": "main_with_deep_learning.ipynb",
   "provenance": [],
   "version": "0.3.2",
   "views": {}
  },
  "kernelspec": {
   "display_name": "Python 3 (ipykernel)",
   "language": "python",
   "name": "python3"
  },
  "language_info": {
   "codemirror_mode": {
    "name": "ipython",
    "version": 3
   },
   "file_extension": ".py",
   "mimetype": "text/x-python",
   "name": "python",
   "nbconvert_exporter": "python",
   "pygments_lexer": "ipython3",
   "version": "3.9.12"
  }
 },
 "nbformat": 4,
 "nbformat_minor": 1
}
